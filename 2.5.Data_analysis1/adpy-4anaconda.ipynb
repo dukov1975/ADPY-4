{
 "cells": [
  {
   "cell_type": "code",
   "execution_count": 90,
   "metadata": {},
   "outputs": [
    {
     "name": "stdout",
     "output_type": "stream",
     "text": [
      "         Count\n",
      "Name          \n",
      "John      9701\n",
      "William   9562\n",
      "Mary      7092\n",
      "         Count\n",
      "Name          \n",
      "James   111789\n",
      "John    109601\n",
      "Robert  101368\n",
      "{'F': [299798, 1713065, 1815295], 'M': [150480, 1790437, 1963202]}\n"
     ]
    }
   ],
   "source": [
    "import pandas as pd\n",
    "\n",
    "def count_top3(year_list):\n",
    "    df_names = list()\n",
    "    for year in year_list:\n",
    "        temp_names = pd.read_csv('names/yob'+str(year)+'.txt', names=['Name','Gender','Count'])\n",
    "        df_names.append(temp_names)\n",
    "    all_years = pd.concat(df_names)\n",
    "    print(all_years.groupby(['Name']).sum().sort_values('Count',ascending=False).head(3))\n",
    "\n",
    "def count_dynamics(year_list):\n",
    "    female_list = list()\n",
    "    male_list = list()\n",
    "    for year in year_list:\n",
    "        df = pd.read_csv('names/yob'+str(year)+'.txt', names=['Name','Gender','Count'])\n",
    "        female_list.append(df[df['Gender']=='F']['Count'].sum())\n",
    "        male_list.append(df[df['Gender']=='M']['Count'].sum())\n",
    "    people_dict = dict(F=female_list, M=male_list)\n",
    "    print(people_dict)\n",
    "    \n",
    "count_top3([1880]) \n",
    "# ['John', 'William', 'Mary']\n",
    "count_top3([1900, 1950, 2000]) \n",
    "# ['James', 'John', 'Robert']\n",
    "count_dynamics([1900, 1950, 2000])\n",
    "# {\n",
    "#   'F': [299810, 1713259, 1814922],\n",
    "#   'M': [150486, 1790871, 1962744]\n",
    "# }\n"
   ]
  },
  {
   "cell_type": "code",
   "execution_count": null,
   "metadata": {},
   "outputs": [],
   "source": []
  },
  {
   "cell_type": "code",
   "execution_count": null,
   "metadata": {},
   "outputs": [],
   "source": []
  },
  {
   "cell_type": "code",
   "execution_count": null,
   "metadata": {},
   "outputs": [],
   "source": []
  },
  {
   "cell_type": "code",
   "execution_count": null,
   "metadata": {},
   "outputs": [],
   "source": []
  }
 ],
 "metadata": {
  "kernelspec": {
   "display_name": "Python 3",
   "language": "python",
   "name": "python3"
  },
  "language_info": {
   "codemirror_mode": {
    "name": "ipython",
    "version": 3
   },
   "file_extension": ".py",
   "mimetype": "text/x-python",
   "name": "python",
   "nbconvert_exporter": "python",
   "pygments_lexer": "ipython3",
   "version": "3.7.3"
  }
 },
 "nbformat": 4,
 "nbformat_minor": 2
}
