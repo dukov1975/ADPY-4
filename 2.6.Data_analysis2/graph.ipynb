{
 "cells": [
  {
   "cell_type": "code",
   "execution_count": 8,
   "metadata": {},
   "outputs": [],
   "source": [
    "from pylab import rcParams\n",
    "import pandas as pd\n",
    "import matplotlib.pyplot as plt\n",
    "rcParams['figure.figsize'] = 17, 15\n"
   ]
  },
  {
   "cell_type": "code",
   "execution_count": 20,
   "metadata": {},
   "outputs": [],
   "source": [
    "#  1-е и 2-е задание\n",
    "\n",
    "names_years = {}\n",
    "ticks = list()\n",
    "for year in range(1900, 2001):\n",
    "    names_years[year] = pd.read_csv(f'F:\\Python_projects\\ADPY-4\\\\2.6.Data_analysis2\\\\names\\yob{year}.txt',\n",
    "                                   names=['Name', 'Gender', 'Count'])\n",
    "    if year % 5 == 0:\n",
    "        ticks.append(year)\n",
    "all_years = pd.concat(names_years).reset_index(level=1, drop=True)\n",
    "names_select = all_years[all_years.Name.isin(['Ruth', 'Robert'])]\n",
    "names_all = names_select.groupby([names_select.index, 'Name']).sum()\n",
    "names_all.unstack('Name').plot()\n",
    "xs = range(len(ticks))\n",
    "plt.xticks(ticks)\n",
    "plt.show()"
   ]
  },
  {
   "cell_type": "code",
   "execution_count": 19,
   "metadata": {},
   "outputs": [],
   "source": [
    "# 3-е задание\n",
    "\n",
    "names = pd.read_csv(f'F:\\Python_projects\\ADPY-4\\\\2.6.Data_analysis2\\\\names\\yob1950.txt',\n",
    "                          names=['Name', 'Gender', 'Count'])\n",
    "r_names = names[names.Name.str.slice(0, 1) == 'R'].groupby(['Name']).sum().sort_values('Count', ascending=False).head(10)\n",
    "r_names.plot(kind='pie', y='Count', x='Name')\n",
    "plt.show()"
   ]
  },
  {
   "cell_type": "code",
   "execution_count": 18,
   "metadata": {},
   "outputs": [],
   "source": [
    "# 4-e задание, не очень понял, что от меня требуется в горафике, не понимаю я пока точечные\n",
    "import re\n",
    "import seaborn as sns\n",
    "group_years = all_years.groupby(['Name']).sum().reset_index()\n",
    "group_years['Letterc'] = group_years.Name.apply(lambda x: len(re.findall('[QWRTPSDFGHJKLZXCVBNMqwrtpsdfghjklzxcbvnm]', x)))\n",
    "sns.jointplot(x='Count', y='Letterc', data=group_years, kind='scatter')\n",
    "plt.show()"
   ]
  },
  {
   "cell_type": "code",
   "execution_count": null,
   "metadata": {},
   "outputs": [],
   "source": []
  }
 ],
 "metadata": {
  "kernelspec": {
   "display_name": "Python 3",
   "language": "python",
   "name": "python3"
  },
  "language_info": {
   "codemirror_mode": {
    "name": "ipython",
    "version": 3
   },
   "file_extension": ".py",
   "mimetype": "text/x-python",
   "name": "python",
   "nbconvert_exporter": "python",
   "pygments_lexer": "ipython3",
   "version": "3.6.6"
  }
 },
 "nbformat": 4,
 "nbformat_minor": 1
}
