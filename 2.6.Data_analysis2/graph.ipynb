{
 "cells": [
  {
   "cell_type": "code",
   "execution_count": 11,
   "metadata": {},
   "outputs": [],
   "source": [
    "import matplotlib.pyplot as plt\n",
    "from pylab import rcParams\n",
    "import pandas as pd\n",
    "rcParams['figure.figsize'] = 17, 9\n"
   ]
  },
  {
   "cell_type": "code",
   "execution_count": 12,
   "metadata": {},
   "outputs": [],
   "source": [
    "#  1-е задание \n",
    "\n",
    "names_years = {}\n",
    "ticks_one_year = list()\n",
    "for year in range(1900, 2001):\n",
    "    names_years[year] = pd.read_csv(f'~/names/yob{year}.txt',\n",
    "                                   names=['Name', 'Gender', 'Count'])\n",
    "    ticks_one_year.append(year)\n",
    "all_years = pd.concat(names_years).reset_index(level=1, drop=True)\n",
    "names_select = all_years[all_years.Name.isin(['Ruth', 'Robert'])]\n",
    "names_all = names_select.groupby([names_select.index, 'Name']).sum()\n",
    "names_all.unstack('Name').plot()\n",
    "plt.xticks([])\n",
    "plt.show()"
   ]
  },
  {
   "cell_type": "code",
   "execution_count": 13,
   "metadata": {
    "scrolled": false
   },
   "outputs": [],
   "source": [
    "# 2-е задание\n",
    "\n",
    "names_five_years = {}\n",
    "ticks_five_year = list()\n",
    "for year in range(1900, 2001, 5):\n",
    "    names_five_years[year] = pd.read_csv(f'~/names/yob{year}.txt',\n",
    "                                         names=['Name', 'Gender', 'Count'])\n",
    "    ticks_five_year.append(year)\n",
    "five_years = pd.concat(names_five_years).reset_index(level=1, drop=True)\n",
    "names_select_five = five_years[five_years.Name.isin(['Ruth', 'Robert'])]\n",
    "names_five = names_select_five.groupby([names_select_five.index, 'Name']).sum()\n",
    "names_five.unstack('Name').plot(kind='bar')\n",
    "plt.show()"
   ]
  },
  {
   "cell_type": "code",
   "execution_count": 14,
   "metadata": {},
   "outputs": [],
   "source": [
    "# 3-е задание\n",
    "\n",
    "names = pd.read_csv(f'~/names/yob1950.txt',\n",
    "                          names=['Name', 'Gender', 'Count'])\n",
    "r_names = names[names.Name.str.slice(0, 1) == 'R'].groupby(['Name']).sum().sort_values('Count', ascending=False).head(10)\n",
    "r_names.plot(kind='pie', y='Count', x='Name')\n",
    "plt.show()"
   ]
  },
  {
   "cell_type": "code",
   "execution_count": 15,
   "metadata": {},
   "outputs": [],
   "source": [
    "# 4-e задание, не очень понял, что от меня требуется в графике, не понимаю я пока точечные\n",
    "import re\n",
    "import seaborn as sns\n",
    "group_years = all_years.groupby(['Name']).sum().reset_index()\n",
    "group_years['Letterc'] = group_years.Name.apply(lambda x: len(re.findall('[QWRTPSDFGHJKLZXCVBNMqwrtpsdfghjklzxcbvnm]', x)))\n",
    "sns.jointplot(x='Letterc', y='Count', data=group_years, kind='scatter')\n",
    "plt.show()"
   ]
  },
  {
   "cell_type": "code",
   "execution_count": null,
   "metadata": {},
   "outputs": [],
   "source": []
  }
 ],
 "metadata": {
  "kernelspec": {
   "display_name": "Python 3",
   "language": "python",
   "name": "python3"
  },
  "language_info": {
   "codemirror_mode": {
    "name": "ipython",
    "version": 3
   },
   "file_extension": ".py",
   "mimetype": "text/x-python",
   "name": "python",
   "nbconvert_exporter": "python",
   "pygments_lexer": "ipython3",
   "version": "3.7.3"
  }
 },
 "nbformat": 4,
 "nbformat_minor": 1
}
